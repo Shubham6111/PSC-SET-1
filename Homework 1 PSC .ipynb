{
 "cells": [
  {
   "cell_type": "code",
   "execution_count": 1,
   "id": "cb47fcbe-69af-46b5-b924-30133711defc",
   "metadata": {},
   "outputs": [],
   "source": [
    "s = \"this is My First Python programming class and i am learNING python string and its function\""
   ]
  },
  {
   "cell_type": "code",
   "execution_count": 4,
   "id": "87389ed9-99a3-46aa-a73d-0cb2a26c5859",
   "metadata": {},
   "outputs": [
    {
     "data": {
      "text/plain": [
       "'this is My First Python programming class and i am learNING python string and its function'"
      ]
     },
     "execution_count": 4,
     "metadata": {},
     "output_type": "execute_result"
    }
   ],
   "source": [
    "s"
   ]
  },
  {
   "cell_type": "code",
   "execution_count": 5,
   "id": "a0e0a6e8-2554-4874-8918-0778968d888a",
   "metadata": {},
   "outputs": [
    {
     "data": {
      "text/plain": [
       "'tssyityopgmncsa alrNph rgni ni'"
      ]
     },
     "execution_count": 5,
     "metadata": {},
     "output_type": "execute_result"
    }
   ],
   "source": [
    "s[0:300:3]"
   ]
  },
  {
   "cell_type": "code",
   "execution_count": 6,
   "id": "58b58e68-0a0f-4186-86ed-25f5d3abff9a",
   "metadata": {},
   "outputs": [
    {
     "data": {
      "text/plain": [
       "'noitcnuf sti dna gnirts nohtyp GNINrael ma i dna ssalc gnimmargorp nohtyP tsriF yM si siht'"
      ]
     },
     "execution_count": 6,
     "metadata": {},
     "output_type": "execute_result"
    }
   ],
   "source": [
    "s[::-1]"
   ]
  },
  {
   "cell_type": "code",
   "execution_count": 7,
   "id": "d9a9fd07-78ef-4419-b9ba-1ae440aa5b64",
   "metadata": {},
   "outputs": [
    {
     "data": {
      "text/plain": [
       "['THIS',\n",
       " 'IS',\n",
       " 'MY',\n",
       " 'FIRST',\n",
       " 'PYTHON',\n",
       " 'PROGRAMMING',\n",
       " 'CLASS',\n",
       " 'AND',\n",
       " 'I',\n",
       " 'AM',\n",
       " 'LEARNING',\n",
       " 'PYTHON',\n",
       " 'STRING',\n",
       " 'AND',\n",
       " 'ITS',\n",
       " 'FUNCTION']"
      ]
     },
     "execution_count": 7,
     "metadata": {},
     "output_type": "execute_result"
    }
   ],
   "source": [
    "s1=s.upper()\n",
    "s1.split()"
   ]
  },
  {
   "cell_type": "code",
   "execution_count": 8,
   "id": "d9545f68-5108-48cc-96ce-04ea16899be1",
   "metadata": {},
   "outputs": [
    {
     "data": {
      "text/plain": [
       "'this is my first python programming class and i am learning python string and its function'"
      ]
     },
     "execution_count": 8,
     "metadata": {},
     "output_type": "execute_result"
    }
   ],
   "source": [
    "s.lower()"
   ]
  },
  {
   "cell_type": "code",
   "execution_count": 10,
   "id": "90fc81ec-17c4-4256-9173-9015869bfc0c",
   "metadata": {},
   "outputs": [
    {
     "data": {
      "text/plain": [
       "'This is my first python programming class and i am learning python string and its function'"
      ]
     },
     "execution_count": 10,
     "metadata": {},
     "output_type": "execute_result"
    }
   ],
   "source": [
    "s.capitalize()"
   ]
  },
  {
   "cell_type": "code",
   "execution_count": 11,
   "id": "9b67c7af-dfff-4f1c-8cfb-529d868af6d2",
   "metadata": {},
   "outputs": [
    {
     "data": {
      "text/plain": [
       "True"
      ]
     },
     "execution_count": 11,
     "metadata": {},
     "output_type": "execute_result"
    }
   ],
   "source": [
    "s1 = \"sudhfsdf\"\n",
    "s1.isalnum()"
   ]
  },
  {
   "cell_type": "code",
   "execution_count": 12,
   "id": "37f66d2b-b131-4a52-b474-7680f6ceec74",
   "metadata": {},
   "outputs": [
    {
     "data": {
      "text/plain": [
       "False"
      ]
     },
     "execution_count": 12,
     "metadata": {},
     "output_type": "execute_result"
    }
   ],
   "source": [
    "s2 = \"sudh345\"\n",
    "s2.isalpha()"
   ]
  },
  {
   "cell_type": "code",
   "execution_count": 14,
   "id": "a8ef0360-a2ac-44e2-839a-bdca67fdb0c9",
   "metadata": {},
   "outputs": [
    {
     "data": {
      "text/plain": [
       "'shubh\\x0712345     abc'"
      ]
     },
     "execution_count": 14,
     "metadata": {},
     "output_type": "execute_result"
    }
   ],
   "source": [
    "s = \"shubh\\a12345\\tabc\"\n",
    "s.expandtabs()"
   ]
  },
  {
   "cell_type": "code",
   "execution_count": 15,
   "id": "336305be-4ece-4b9c-87ef-ce6bb1a3d8cf",
   "metadata": {},
   "outputs": [
    {
     "data": {
      "text/plain": [
       "'         love'"
      ]
     },
     "execution_count": 15,
     "metadata": {},
     "output_type": "execute_result"
    }
   ],
   "source": [
    "temp=\"         love        \"\n",
    "temp.strip()\n",
    "temp.lstrip()\n",
    "temp.rstrip()"
   ]
  },
  {
   "cell_type": "code",
   "execution_count": 16,
   "id": "eec65b1c-b20f-4652-95a7-044d4431033c",
   "metadata": {},
   "outputs": [
    {
     "data": {
      "text/plain": [
       "'love'"
      ]
     },
     "execution_count": 16,
     "metadata": {},
     "output_type": "execute_result"
    }
   ],
   "source": [
    "temp.strip()"
   ]
  },
  {
   "cell_type": "code",
   "execution_count": 17,
   "id": "da1d19d1-c107-4cab-8e30-3eccf423f25e",
   "metadata": {},
   "outputs": [
    {
     "data": {
      "text/plain": [
       "'love        '"
      ]
     },
     "execution_count": 17,
     "metadata": {},
     "output_type": "execute_result"
    }
   ],
   "source": [
    "temp.lstrip()"
   ]
  },
  {
   "cell_type": "code",
   "execution_count": 18,
   "id": "d5b1a28f-5bde-4fd4-8250-eea2aebb7fad",
   "metadata": {},
   "outputs": [
    {
     "data": {
      "text/plain": [
       "'         love'"
      ]
     },
     "execution_count": 18,
     "metadata": {},
     "output_type": "execute_result"
    }
   ],
   "source": [
    "temp.rstrip()"
   ]
  },
  {
   "cell_type": "code",
   "execution_count": 22,
   "id": "ce9f83d2-8ed0-4bbe-aa30-d47bbe581d56",
   "metadata": {},
   "outputs": [
    {
     "data": {
      "text/plain": [
       "'angry marata'"
      ]
     },
     "execution_count": 22,
     "metadata": {},
     "output_type": "execute_result"
    }
   ],
   "source": [
    "ad= \"angry shubham\"\n",
    "ad.replace(\"shubham\" , \"marata\")"
   ]
  },
  {
   "cell_type": "code",
   "execution_count": 28,
   "id": "bd165e7b-3883-4a24-b977-2711198f3669",
   "metadata": {},
   "outputs": [
    {
     "data": {
      "text/plain": [
       "'**Gamer***'"
      ]
     },
     "execution_count": 28,
     "metadata": {},
     "output_type": "execute_result"
    }
   ],
   "source": [
    "n= \"Gamer\"\n",
    "n.center(10,'*')"
   ]
  },
  {
   "cell_type": "code",
   "execution_count": 29,
   "id": "8ce5aec6-203a-4b2a-bff2-9075a4cd739f",
   "metadata": {},
   "outputs": [],
   "source": [
    "#11"
   ]
  },
  {
   "cell_type": "code",
   "execution_count": 30,
   "id": "d9263628-f455-4a51-af6a-cefef2705856",
   "metadata": {},
   "outputs": [],
   "source": [
    "# Compiler - the code which we have written in program gets converted into binary code (01) by the compiler because the computer knows only binary \n",
    "           # language .so basically compiler converts our code into binary code so that the code gets exicuted by  the computer. "
   ]
  },
  {
   "cell_type": "code",
   "execution_count": 31,
   "id": "38231acf-436a-453c-9df5-b75634546534",
   "metadata": {},
   "outputs": [],
   "source": [
    "# interpretor - it reads our code line by line and executes it immediately in sequence manner and interpriting the code at the run time ."
   ]
  },
  {
   "cell_type": "code",
   "execution_count": 32,
   "id": "d91cfd2a-2aee-4ff7-b6be-a78529aeb743",
   "metadata": {},
   "outputs": [],
   "source": [
    "#12"
   ]
  },
  {
   "cell_type": "code",
   "execution_count": 33,
   "id": "051340eb-5398-4c58-a251-6c5d428ec4d1",
   "metadata": {},
   "outputs": [],
   "source": [
    "# Python code is executed by an interpreter like Cpython which reads and executes the code line by line at runtime. This is why python is considered \n",
    "# an interpreted language."
   ]
  },
  {
   "cell_type": "code",
   "execution_count": 34,
   "id": "a5a0662f-f1d6-4fcb-a609-d86baa5793d3",
   "metadata": {},
   "outputs": [],
   "source": [
    "#13 "
   ]
  },
  {
   "cell_type": "code",
   "execution_count": null,
   "id": "163ccb4f-7918-4cda-85e2-8a445da995e8",
   "metadata": {},
   "outputs": [],
   "source": [
    "# There are many usecases of python as :\n",
    "# Python is used in cyber security.\n",
    "# Python is used in Web  Development. ( Django , flask for websites ) \n",
    "# Python is used in Data analysis and machine learning. (Pandas , TensorFlow )\n",
    "# Python is used in Artificial Intelligence . (Generative AI)\n",
    "# Python is used in Internet of Things. (IOT)\n",
    "# Python is used in Cloud computing . (Automaing cloud service)\n",
    "# Python is used in Game Development. (game prototyping .)\n",
    "# Python is used in Blockchain development."
   ]
  }
 ],
 "metadata": {
  "kernelspec": {
   "display_name": "Python 3 (ipykernel)",
   "language": "python",
   "name": "python3"
  },
  "language_info": {
   "codemirror_mode": {
    "name": "ipython",
    "version": 3
   },
   "file_extension": ".py",
   "mimetype": "text/x-python",
   "name": "python",
   "nbconvert_exporter": "python",
   "pygments_lexer": "ipython3",
   "version": "3.12.4"
  }
 },
 "nbformat": 4,
 "nbformat_minor": 5
}
